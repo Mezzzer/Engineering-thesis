{
 "cells": [
  {
   "cell_type": "code",
   "execution_count": 1,
   "metadata": {},
   "outputs": [],
   "source": [
    "import pandas as pd\n",
    "import numpy as np\n",
    "from scipy.stats import mode\n",
    "from sklearn.metrics import accuracy_score\n",
    "from sklearn.preprocessing import StandardScaler\n",
    "from sklearn.model_selection import cross_val_score\n",
    "from sklearn.pipeline import Pipeline\n",
    "from sklearn.impute import SimpleImputer\n",
    "from sklearn.metrics import accuracy_score\n",
    "from sklearn.model_selection import StratifiedShuffleSplit\n",
    "from sklearn.pipeline import make_pipeline\n",
    "from sklearn.model_selection import train_test_split\n",
    "from sklearn.metrics import mean_absolute_error\n",
    "from sklearn.model_selection import StratifiedKFold\n",
    "from skopt import BayesSearchCV\n",
    "from sklearn.linear_model import LogisticRegression"
   ]
  },
  {
   "cell_type": "code",
   "execution_count": 2,
   "metadata": {},
   "outputs": [
    {
     "data": {
      "text/html": [
       "<div>\n",
       "<style scoped>\n",
       "    .dataframe tbody tr th:only-of-type {\n",
       "        vertical-align: middle;\n",
       "    }\n",
       "\n",
       "    .dataframe tbody tr th {\n",
       "        vertical-align: top;\n",
       "    }\n",
       "\n",
       "    .dataframe thead th {\n",
       "        text-align: right;\n",
       "    }\n",
       "</style>\n",
       "<table border=\"1\" class=\"dataframe\">\n",
       "  <thead>\n",
       "    <tr style=\"text-align: right;\">\n",
       "      <th></th>\n",
       "      <th>DIS</th>\n",
       "      <th>FLO</th>\n",
       "      <th>LOY</th>\n",
       "      <th>PRI</th>\n",
       "      <th>PIM</th>\n",
       "      <th>FEA</th>\n",
       "      <th>LAG</th>\n",
       "      <th>CHO</th>\n",
       "    </tr>\n",
       "  </thead>\n",
       "  <tbody>\n",
       "    <tr>\n",
       "      <th>0</th>\n",
       "      <td>-0.43600</td>\n",
       "      <td>-0.056</td>\n",
       "      <td>1.0</td>\n",
       "      <td>0.1429</td>\n",
       "      <td>0.03510</td>\n",
       "      <td>-0.175710</td>\n",
       "      <td>1.0</td>\n",
       "      <td>9</td>\n",
       "    </tr>\n",
       "    <tr>\n",
       "      <th>1</th>\n",
       "      <td>3.85290</td>\n",
       "      <td>-0.576</td>\n",
       "      <td>1.0</td>\n",
       "      <td>0.8136</td>\n",
       "      <td>-0.48915</td>\n",
       "      <td>-0.588930</td>\n",
       "      <td>1.0</td>\n",
       "      <td>9</td>\n",
       "    </tr>\n",
       "    <tr>\n",
       "      <th>2</th>\n",
       "      <td>4.58810</td>\n",
       "      <td>0.260</td>\n",
       "      <td>1.0</td>\n",
       "      <td>0.1502</td>\n",
       "      <td>-0.09050</td>\n",
       "      <td>-0.195670</td>\n",
       "      <td>1.0</td>\n",
       "      <td>9</td>\n",
       "    </tr>\n",
       "    <tr>\n",
       "      <th>3</th>\n",
       "      <td>61.55460</td>\n",
       "      <td>-0.139</td>\n",
       "      <td>1.0</td>\n",
       "      <td>0.0817</td>\n",
       "      <td>-0.08200</td>\n",
       "      <td>-0.435940</td>\n",
       "      <td>1.0</td>\n",
       "      <td>9</td>\n",
       "    </tr>\n",
       "    <tr>\n",
       "      <th>4</th>\n",
       "      <td>1.70100</td>\n",
       "      <td>0.259</td>\n",
       "      <td>1.0</td>\n",
       "      <td>-0.1534</td>\n",
       "      <td>-0.05960</td>\n",
       "      <td>0.015470</td>\n",
       "      <td>1.0</td>\n",
       "      <td>9</td>\n",
       "    </tr>\n",
       "    <tr>\n",
       "      <th>...</th>\n",
       "      <td>...</td>\n",
       "      <td>...</td>\n",
       "      <td>...</td>\n",
       "      <td>...</td>\n",
       "      <td>...</td>\n",
       "      <td>...</td>\n",
       "      <td>...</td>\n",
       "      <td>...</td>\n",
       "    </tr>\n",
       "    <tr>\n",
       "      <th>3146269</th>\n",
       "      <td>4.10573</td>\n",
       "      <td>0.135</td>\n",
       "      <td>0.0</td>\n",
       "      <td>-2.1534</td>\n",
       "      <td>0.08141</td>\n",
       "      <td>5.524900</td>\n",
       "      <td>1.0</td>\n",
       "      <td>5</td>\n",
       "    </tr>\n",
       "    <tr>\n",
       "      <th>3146270</th>\n",
       "      <td>37.22023</td>\n",
       "      <td>2.173</td>\n",
       "      <td>0.0</td>\n",
       "      <td>-2.5829</td>\n",
       "      <td>0.11651</td>\n",
       "      <td>0.619060</td>\n",
       "      <td>1.0</td>\n",
       "      <td>5</td>\n",
       "    </tr>\n",
       "    <tr>\n",
       "      <th>3146271</th>\n",
       "      <td>0.03146</td>\n",
       "      <td>0.348</td>\n",
       "      <td>0.0</td>\n",
       "      <td>-1.2892</td>\n",
       "      <td>-0.19316</td>\n",
       "      <td>0.032053</td>\n",
       "      <td>1.0</td>\n",
       "      <td>5</td>\n",
       "    </tr>\n",
       "    <tr>\n",
       "      <th>3146272</th>\n",
       "      <td>5.57263</td>\n",
       "      <td>0.168</td>\n",
       "      <td>0.0</td>\n",
       "      <td>-2.1721</td>\n",
       "      <td>0.12531</td>\n",
       "      <td>1.746300</td>\n",
       "      <td>1.0</td>\n",
       "      <td>5</td>\n",
       "    </tr>\n",
       "    <tr>\n",
       "      <th>3146273</th>\n",
       "      <td>2.28003</td>\n",
       "      <td>0.058</td>\n",
       "      <td>-1.0</td>\n",
       "      <td>-0.4000</td>\n",
       "      <td>0.12431</td>\n",
       "      <td>5.601900</td>\n",
       "      <td>1.0</td>\n",
       "      <td>5</td>\n",
       "    </tr>\n",
       "  </tbody>\n",
       "</table>\n",
       "<p>3146274 rows × 8 columns</p>\n",
       "</div>"
      ],
      "text/plain": [
       "              DIS    FLO  LOY     PRI      PIM       FEA  LAG  CHO\n",
       "0        -0.43600 -0.056  1.0  0.1429  0.03510 -0.175710  1.0    9\n",
       "1         3.85290 -0.576  1.0  0.8136 -0.48915 -0.588930  1.0    9\n",
       "2         4.58810  0.260  1.0  0.1502 -0.09050 -0.195670  1.0    9\n",
       "3        61.55460 -0.139  1.0  0.0817 -0.08200 -0.435940  1.0    9\n",
       "4         1.70100  0.259  1.0 -0.1534 -0.05960  0.015470  1.0    9\n",
       "...           ...    ...  ...     ...      ...       ...  ...  ...\n",
       "3146269   4.10573  0.135  0.0 -2.1534  0.08141  5.524900  1.0    5\n",
       "3146270  37.22023  2.173  0.0 -2.5829  0.11651  0.619060  1.0    5\n",
       "3146271   0.03146  0.348  0.0 -1.2892 -0.19316  0.032053  1.0    5\n",
       "3146272   5.57263  0.168  0.0 -2.1721  0.12531  1.746300  1.0    5\n",
       "3146273   2.28003  0.058 -1.0 -0.4000  0.12431  5.601900  1.0    5\n",
       "\n",
       "[3146274 rows x 8 columns]"
      ]
     },
     "execution_count": 2,
     "metadata": {},
     "output_type": "execute_result"
    }
   ],
   "source": [
    "data_path = 'procDF2.csv'\n",
    "processed_df = pd.read_csv(data_path)\n",
    "processed_df"
   ]
  },
  {
   "cell_type": "code",
   "execution_count": 3,
   "metadata": {},
   "outputs": [],
   "source": [
    "shops_features = ['DIS','FLO','LOY','PRI','PIM','FEA','LAG']\n",
    "X = processed_df[shops_features]\n",
    "y = processed_df.CHO\n",
    "\n",
    "\n",
    "transformer_num = make_pipeline(\n",
    "    StandardScaler()\n",
    ")\n",
    "\n",
    "\n",
    "X_train, X_valid, y_train, y_valid = \\\n",
    "    train_test_split(X, y,stratify=y, test_size=0.33)\n",
    "\n",
    "\n",
    "\n",
    "X_train = transformer_num.fit_transform(X_train)\n",
    "X_valid = transformer_num.transform(X_valid)"
   ]
  },
  {
   "cell_type": "markdown",
   "metadata": {},
   "source": [
    "Untuned model definition"
   ]
  },
  {
   "cell_type": "code",
   "execution_count": 4,
   "metadata": {},
   "outputs": [
    {
     "name": "stdout",
     "output_type": "stream",
     "text": [
      "Default parameters in model: \n",
      " {'C': 1.0, 'class_weight': None, 'dual': False, 'fit_intercept': True, 'intercept_scaling': 1, 'l1_ratio': None, 'max_iter': 100, 'multi_class': 'auto', 'n_jobs': None, 'penalty': 'l2', 'random_state': 1, 'solver': 'lbfgs', 'tol': 0.0001, 'verbose': 0, 'warm_start': False}\n"
     ]
    }
   ],
   "source": [
    "default_model = LogisticRegression(random_state=1)\n",
    "print(\"Default parameters in model: \\n\", default_model.get_params())"
   ]
  },
  {
   "cell_type": "code",
   "execution_count": 8,
   "metadata": {},
   "outputs": [
    {
     "data": {
      "text/plain": [
       "{'C': [100, 10, 1.0, 0.1, 0.01],\n",
       " 'solver': ['lbfgs', 'newton-cg', 'sag', 'saga']}"
      ]
     },
     "execution_count": 8,
     "metadata": {},
     "output_type": "execute_result"
    }
   ],
   "source": [
    "param_grid = {\n",
    "    \"C\":[100, 10, 1.0, 0.1, 0.01],\n",
    "    \"solver\":['lbfgs','newton-cg', 'sag', 'saga']\n",
    "}\n",
    "param_grid"
   ]
  },
  {
   "cell_type": "code",
   "execution_count": 9,
   "metadata": {},
   "outputs": [
    {
     "name": "stderr",
     "output_type": "stream",
     "text": [
      "E:\\Programy\\Python\\Python38\\lib\\site-packages\\skopt\\optimizer\\optimizer.py:449: UserWarning: The objective has been evaluated at this point before.\n",
      "  warnings.warn(\"The objective has been evaluated \"\n",
      "E:\\Programy\\Python\\Python38\\lib\\site-packages\\skopt\\optimizer\\optimizer.py:449: UserWarning: The objective has been evaluated at this point before.\n",
      "  warnings.warn(\"The objective has been evaluated \"\n",
      "E:\\Programy\\Python\\Python38\\lib\\site-packages\\skopt\\optimizer\\optimizer.py:449: UserWarning: The objective has been evaluated at this point before.\n",
      "  warnings.warn(\"The objective has been evaluated \"\n",
      "E:\\Programy\\Python\\Python38\\lib\\site-packages\\skopt\\optimizer\\optimizer.py:449: UserWarning: The objective has been evaluated at this point before.\n",
      "  warnings.warn(\"The objective has been evaluated \"\n",
      "E:\\Programy\\Python\\Python38\\lib\\site-packages\\skopt\\optimizer\\optimizer.py:449: UserWarning: The objective has been evaluated at this point before.\n",
      "  warnings.warn(\"The objective has been evaluated \"\n",
      "E:\\Programy\\Python\\Python38\\lib\\site-packages\\skopt\\optimizer\\optimizer.py:449: UserWarning: The objective has been evaluated at this point before.\n",
      "  warnings.warn(\"The objective has been evaluated \"\n",
      "E:\\Programy\\Python\\Python38\\lib\\site-packages\\skopt\\optimizer\\optimizer.py:449: UserWarning: The objective has been evaluated at this point before.\n",
      "  warnings.warn(\"The objective has been evaluated \"\n",
      "E:\\Programy\\Python\\Python38\\lib\\site-packages\\skopt\\optimizer\\optimizer.py:449: UserWarning: The objective has been evaluated at this point before.\n",
      "  warnings.warn(\"The objective has been evaluated \"\n",
      "E:\\Programy\\Python\\Python38\\lib\\site-packages\\skopt\\optimizer\\optimizer.py:449: UserWarning: The objective has been evaluated at this point before.\n",
      "  warnings.warn(\"The objective has been evaluated \"\n",
      "E:\\Programy\\Python\\Python38\\lib\\site-packages\\skopt\\optimizer\\optimizer.py:449: UserWarning: The objective has been evaluated at this point before.\n",
      "  warnings.warn(\"The objective has been evaluated \"\n",
      "E:\\Programy\\Python\\Python38\\lib\\site-packages\\skopt\\optimizer\\optimizer.py:449: UserWarning: The objective has been evaluated at this point before.\n",
      "  warnings.warn(\"The objective has been evaluated \"\n",
      "E:\\Programy\\Python\\Python38\\lib\\site-packages\\scipy\\optimize\\linesearch.py:327: LineSearchWarning: The line search algorithm did not converge\n",
      "  warn('The line search algorithm did not converge', LineSearchWarning)\n",
      "E:\\Programy\\Python\\Python38\\lib\\site-packages\\sklearn\\utils\\optimize.py:204: UserWarning: Line Search failed\n",
      "  warnings.warn('Line Search failed')\n"
     ]
    },
    {
     "data": {
      "text/plain": [
       "BayesSearchCV(cv=StratifiedKFold(n_splits=3, random_state=None, shuffle=True),\n",
       "              estimator=LogisticRegression(random_state=1), n_iter=30,\n",
       "              n_jobs=-1, random_state=1,\n",
       "              search_spaces={'C': [100, 10, 1.0, 0.1, 0.01],\n",
       "                             'solver': ['lbfgs', 'newton-cg', 'sag', 'saga']})"
      ]
     },
     "execution_count": 9,
     "metadata": {},
     "output_type": "execute_result"
    }
   ],
   "source": [
    "opt = BayesSearchCV(\n",
    "    LogisticRegression(random_state=1),\n",
    "    param_grid,\n",
    "    n_iter=30,\n",
    "    n_jobs=-1,\n",
    "    cv = StratifiedKFold(n_splits=3, shuffle=True),\n",
    "    random_state=1,\n",
    "    verbose=0\n",
    ")\n",
    "\n",
    "opt.fit(X_train, y_train)"
   ]
  },
  {
   "cell_type": "code",
   "execution_count": 10,
   "metadata": {},
   "outputs": [
    {
     "data": {
      "text/plain": [
       "OrderedDict([('C', 100.0), ('solver', 'newton-cg')])"
      ]
     },
     "execution_count": 10,
     "metadata": {},
     "output_type": "execute_result"
    }
   ],
   "source": [
    "opt.best_params_"
   ]
  },
  {
   "cell_type": "code",
   "execution_count": 11,
   "metadata": {},
   "outputs": [
    {
     "name": "stdout",
     "output_type": "stream",
     "text": [
      "Best parameters in random: \n",
      " LogisticRegression(C=100.0, random_state=1, solver='newton-cg')\n"
     ]
    },
    {
     "name": "stderr",
     "output_type": "stream",
     "text": [
      "E:\\Programy\\Python\\Python38\\lib\\site-packages\\scipy\\optimize\\linesearch.py:327: LineSearchWarning: The line search algorithm did not converge\n",
      "  warn('The line search algorithm did not converge', LineSearchWarning)\n",
      "E:\\Programy\\Python\\Python38\\lib\\site-packages\\sklearn\\utils\\optimize.py:204: UserWarning: Line Search failed\n",
      "  warnings.warn('Line Search failed')\n",
      "E:\\Programy\\Python\\Python38\\lib\\site-packages\\scipy\\optimize\\linesearch.py:437: LineSearchWarning: Rounding errors prevent the line search from converging\n",
      "  warn(msg, LineSearchWarning)\n",
      "E:\\Programy\\Python\\Python38\\lib\\site-packages\\scipy\\optimize\\linesearch.py:327: LineSearchWarning: The line search algorithm did not converge\n",
      "  warn('The line search algorithm did not converge', LineSearchWarning)\n",
      "E:\\Programy\\Python\\Python38\\lib\\site-packages\\sklearn\\utils\\optimize.py:204: UserWarning: Line Search failed\n",
      "  warnings.warn('Line Search failed')\n"
     ]
    },
    {
     "name": "stdout",
     "output_type": "stream",
     "text": [
      "RandomSearchCV accuracy:  [0.50985245 0.50934865 0.50967386]\n",
      "Default model accuracy:  [0.50968452 0.51013281 0.50914445]\n"
     ]
    }
   ],
   "source": [
    "opt_best = opt.best_estimator_\n",
    "print(\"Best parameters in random: \\n\", opt_best)\n",
    "opt_accuracy = cross_val_score(opt_best, X_train, y_train, cv=StratifiedKFold(n_splits=3, shuffle=True))\n",
    "default_accuracy = cross_val_score(default_model, X_train, y_train, cv=StratifiedKFold(n_splits=3, shuffle=True))"
   ]
  },
  {
   "cell_type": "code",
   "execution_count": 14,
   "metadata": {},
   "outputs": [
    {
     "name": "stdout",
     "output_type": "stream",
     "text": [
      "BayesSearchCV accuracy:  0.5096302044723918\n",
      "Default model accuracy:  0.5096539234007361\n"
     ]
    }
   ],
   "source": [
    "print(\"BayesSearchCV accuracy: \", opt_accuracy.mean())\n",
    "print(\"Default model accuracy: \", default_accuracy.mean())"
   ]
  }
 ],
 "metadata": {
  "kernelspec": {
   "display_name": "Python 3",
   "language": "python",
   "name": "python3"
  },
  "language_info": {
   "codemirror_mode": {
    "name": "ipython",
    "version": 3
   },
   "file_extension": ".py",
   "mimetype": "text/x-python",
   "name": "python",
   "nbconvert_exporter": "python",
   "pygments_lexer": "ipython3",
   "version": "3.8.6"
  }
 },
 "nbformat": 4,
 "nbformat_minor": 4
}
