{
 "cells": [
  {
   "cell_type": "code",
   "execution_count": 1,
   "metadata": {},
   "outputs": [],
   "source": [
    "import pandas as pd\n",
    "import numpy as np\n",
    "from scipy.stats import mode\n",
    "from sklearn.metrics import accuracy_score\n",
    "from sklearn.preprocessing import StandardScaler\n",
    "from sklearn.model_selection import cross_val_score\n",
    "from sklearn.pipeline import Pipeline\n",
    "from sklearn.impute import SimpleImputer\n",
    "from sklearn.metrics import accuracy_score\n",
    "from sklearn.model_selection import StratifiedShuffleSplit\n",
    "from sklearn.pipeline import make_pipeline\n",
    "from sklearn.model_selection import train_test_split\n",
    "from sklearn.metrics import mean_absolute_error\n",
    "from sklearn.model_selection import StratifiedKFold\n",
    "from skopt import BayesSearchCV\n",
    "from sklearn.neural_network import MLPClassifier"
   ]
  },
  {
   "cell_type": "code",
   "execution_count": 2,
   "metadata": {},
   "outputs": [
    {
     "data": {
      "text/html": [
       "<div>\n",
       "<style scoped>\n",
       "    .dataframe tbody tr th:only-of-type {\n",
       "        vertical-align: middle;\n",
       "    }\n",
       "\n",
       "    .dataframe tbody tr th {\n",
       "        vertical-align: top;\n",
       "    }\n",
       "\n",
       "    .dataframe thead th {\n",
       "        text-align: right;\n",
       "    }\n",
       "</style>\n",
       "<table border=\"1\" class=\"dataframe\">\n",
       "  <thead>\n",
       "    <tr style=\"text-align: right;\">\n",
       "      <th></th>\n",
       "      <th>DIS</th>\n",
       "      <th>FLO</th>\n",
       "      <th>LOY</th>\n",
       "      <th>PRI</th>\n",
       "      <th>PIM</th>\n",
       "      <th>FEA</th>\n",
       "      <th>LAG</th>\n",
       "      <th>CHO</th>\n",
       "    </tr>\n",
       "  </thead>\n",
       "  <tbody>\n",
       "    <tr>\n",
       "      <th>0</th>\n",
       "      <td>-0.43600</td>\n",
       "      <td>-0.056</td>\n",
       "      <td>1.0</td>\n",
       "      <td>0.1429</td>\n",
       "      <td>0.03510</td>\n",
       "      <td>-0.175710</td>\n",
       "      <td>1.0</td>\n",
       "      <td>9</td>\n",
       "    </tr>\n",
       "    <tr>\n",
       "      <th>1</th>\n",
       "      <td>3.85290</td>\n",
       "      <td>-0.576</td>\n",
       "      <td>1.0</td>\n",
       "      <td>0.8136</td>\n",
       "      <td>-0.48915</td>\n",
       "      <td>-0.588930</td>\n",
       "      <td>1.0</td>\n",
       "      <td>9</td>\n",
       "    </tr>\n",
       "    <tr>\n",
       "      <th>2</th>\n",
       "      <td>4.58810</td>\n",
       "      <td>0.260</td>\n",
       "      <td>1.0</td>\n",
       "      <td>0.1502</td>\n",
       "      <td>-0.09050</td>\n",
       "      <td>-0.195670</td>\n",
       "      <td>1.0</td>\n",
       "      <td>9</td>\n",
       "    </tr>\n",
       "    <tr>\n",
       "      <th>3</th>\n",
       "      <td>61.55460</td>\n",
       "      <td>-0.139</td>\n",
       "      <td>1.0</td>\n",
       "      <td>0.0817</td>\n",
       "      <td>-0.08200</td>\n",
       "      <td>-0.435940</td>\n",
       "      <td>1.0</td>\n",
       "      <td>9</td>\n",
       "    </tr>\n",
       "    <tr>\n",
       "      <th>4</th>\n",
       "      <td>1.70100</td>\n",
       "      <td>0.259</td>\n",
       "      <td>1.0</td>\n",
       "      <td>-0.1534</td>\n",
       "      <td>-0.05960</td>\n",
       "      <td>0.015470</td>\n",
       "      <td>1.0</td>\n",
       "      <td>9</td>\n",
       "    </tr>\n",
       "    <tr>\n",
       "      <th>...</th>\n",
       "      <td>...</td>\n",
       "      <td>...</td>\n",
       "      <td>...</td>\n",
       "      <td>...</td>\n",
       "      <td>...</td>\n",
       "      <td>...</td>\n",
       "      <td>...</td>\n",
       "      <td>...</td>\n",
       "    </tr>\n",
       "    <tr>\n",
       "      <th>3146269</th>\n",
       "      <td>4.10573</td>\n",
       "      <td>0.135</td>\n",
       "      <td>0.0</td>\n",
       "      <td>-2.1534</td>\n",
       "      <td>0.08141</td>\n",
       "      <td>5.524900</td>\n",
       "      <td>1.0</td>\n",
       "      <td>5</td>\n",
       "    </tr>\n",
       "    <tr>\n",
       "      <th>3146270</th>\n",
       "      <td>37.22023</td>\n",
       "      <td>2.173</td>\n",
       "      <td>0.0</td>\n",
       "      <td>-2.5829</td>\n",
       "      <td>0.11651</td>\n",
       "      <td>0.619060</td>\n",
       "      <td>1.0</td>\n",
       "      <td>5</td>\n",
       "    </tr>\n",
       "    <tr>\n",
       "      <th>3146271</th>\n",
       "      <td>0.03146</td>\n",
       "      <td>0.348</td>\n",
       "      <td>0.0</td>\n",
       "      <td>-1.2892</td>\n",
       "      <td>-0.19316</td>\n",
       "      <td>0.032053</td>\n",
       "      <td>1.0</td>\n",
       "      <td>5</td>\n",
       "    </tr>\n",
       "    <tr>\n",
       "      <th>3146272</th>\n",
       "      <td>5.57263</td>\n",
       "      <td>0.168</td>\n",
       "      <td>0.0</td>\n",
       "      <td>-2.1721</td>\n",
       "      <td>0.12531</td>\n",
       "      <td>1.746300</td>\n",
       "      <td>1.0</td>\n",
       "      <td>5</td>\n",
       "    </tr>\n",
       "    <tr>\n",
       "      <th>3146273</th>\n",
       "      <td>2.28003</td>\n",
       "      <td>0.058</td>\n",
       "      <td>-1.0</td>\n",
       "      <td>-0.4000</td>\n",
       "      <td>0.12431</td>\n",
       "      <td>5.601900</td>\n",
       "      <td>1.0</td>\n",
       "      <td>5</td>\n",
       "    </tr>\n",
       "  </tbody>\n",
       "</table>\n",
       "<p>3146274 rows × 8 columns</p>\n",
       "</div>"
      ],
      "text/plain": [
       "              DIS    FLO  LOY     PRI      PIM       FEA  LAG  CHO\n",
       "0        -0.43600 -0.056  1.0  0.1429  0.03510 -0.175710  1.0    9\n",
       "1         3.85290 -0.576  1.0  0.8136 -0.48915 -0.588930  1.0    9\n",
       "2         4.58810  0.260  1.0  0.1502 -0.09050 -0.195670  1.0    9\n",
       "3        61.55460 -0.139  1.0  0.0817 -0.08200 -0.435940  1.0    9\n",
       "4         1.70100  0.259  1.0 -0.1534 -0.05960  0.015470  1.0    9\n",
       "...           ...    ...  ...     ...      ...       ...  ...  ...\n",
       "3146269   4.10573  0.135  0.0 -2.1534  0.08141  5.524900  1.0    5\n",
       "3146270  37.22023  2.173  0.0 -2.5829  0.11651  0.619060  1.0    5\n",
       "3146271   0.03146  0.348  0.0 -1.2892 -0.19316  0.032053  1.0    5\n",
       "3146272   5.57263  0.168  0.0 -2.1721  0.12531  1.746300  1.0    5\n",
       "3146273   2.28003  0.058 -1.0 -0.4000  0.12431  5.601900  1.0    5\n",
       "\n",
       "[3146274 rows x 8 columns]"
      ]
     },
     "execution_count": 2,
     "metadata": {},
     "output_type": "execute_result"
    }
   ],
   "source": [
    "data_path = 'procDF2.csv'\n",
    "processed_df = pd.read_csv(data_path)\n",
    "processed_df"
   ]
  },
  {
   "cell_type": "code",
   "execution_count": 4,
   "metadata": {},
   "outputs": [],
   "source": [
    "shops_features = ['DIS','FLO','LOY','PRI','PIM','FEA','LAG']\n",
    "X = processed_df[shops_features]\n",
    "y = processed_df.CHO\n",
    "\n",
    "\n",
    "transformer_num = make_pipeline(\n",
    "    StandardScaler()\n",
    ")\n",
    "\n",
    "\n",
    "X_train, X_valid, y_train, y_valid = \\\n",
    "    train_test_split(X, y,stratify=y, test_size=0.33)\n",
    "\n",
    "\n",
    "\n",
    "X_train = transformer_num.fit_transform(X_train)\n",
    "X_valid = transformer_num.transform(X_valid)"
   ]
  },
  {
   "cell_type": "markdown",
   "metadata": {},
   "source": [
    "Untuned model parameters"
   ]
  },
  {
   "cell_type": "code",
   "execution_count": 6,
   "metadata": {},
   "outputs": [
    {
     "name": "stdout",
     "output_type": "stream",
     "text": [
      "Default parameters in model: \n",
      " {'activation': 'relu', 'alpha': 0.0001, 'batch_size': 'auto', 'beta_1': 0.9, 'beta_2': 0.999, 'early_stopping': False, 'epsilon': 1e-08, 'hidden_layer_sizes': (100,), 'learning_rate': 'constant', 'learning_rate_init': 0.001, 'max_fun': 15000, 'max_iter': 200, 'momentum': 0.9, 'n_iter_no_change': 10, 'nesterovs_momentum': True, 'power_t': 0.5, 'random_state': 1, 'shuffle': True, 'solver': 'adam', 'tol': 0.0001, 'validation_fraction': 0.1, 'verbose': False, 'warm_start': False}\n"
     ]
    }
   ],
   "source": [
    "default_model = MLPClassifier(random_state=1)\n",
    "print(\"Default parameters in model: \\n\", default_model.get_params())"
   ]
  },
  {
   "cell_type": "markdown",
   "metadata": {},
   "source": [
    "Test of early stopping"
   ]
  },
  {
   "cell_type": "code",
   "execution_count": 9,
   "metadata": {},
   "outputs": [
    {
     "name": "stdout",
     "output_type": "stream",
     "text": [
      "Validation accuracy:  0.6693136955573256\n",
      "Training accuracy:  0.6696612860607883\n",
      "Validation mae:  1.6655622664988234\n",
      "Training mae:  1.6658614812218009\n"
     ]
    }
   ],
   "source": [
    "MLP_model = MLPClassifier(random_state=1, early_stopping=True)\n",
    "\n",
    "MLP_model.fit(X_train, y_train)\n",
    "\n",
    "y_pred_valid = MLP_model.predict(X_valid)\n",
    "y_pred_train = MLP_model.predict(X_train)\n",
    "\n",
    "acc_valid = accuracy_score(y_valid, y_pred_valid)\n",
    "acc_train = accuracy_score(y_train, y_pred_train)\n",
    "mae_valid = mean_absolute_error(y_valid, y_pred_valid)\n",
    "mae_train = mean_absolute_error(y_train, y_pred_train)\n",
    "\n",
    "print(\"Validation accuracy: \", acc_valid)\n",
    "print(\"Training accuracy: \", acc_train)\n",
    "print(\"Validation mae: \", mae_valid)\n",
    "print(\"Training mae: \", mae_train)"
   ]
  },
  {
   "cell_type": "markdown",
   "metadata": {},
   "source": [
    "Testing different hidden layer sizes"
   ]
  },
  {
   "cell_type": "code",
   "execution_count": 11,
   "metadata": {},
   "outputs": [
    {
     "name": "stdout",
     "output_type": "stream",
     "text": [
      "Validation accuracy:  0.7101411866458757\n",
      "Training accuracy:  0.710809709473848\n",
      "Validation mae:  1.471899918229441\n",
      "Training mae:  1.4683299786575257\n"
     ]
    }
   ],
   "source": [
    "MLP_model = MLPClassifier(random_state=1, early_stopping=True, hidden_layer_sizes=(50,50,50))\n",
    "\n",
    "MLP_model.fit(X_train, y_train)\n",
    "\n",
    "y_pred_valid = MLP_model.predict(X_valid)\n",
    "y_pred_train = MLP_model.predict(X_train)\n",
    "\n",
    "acc_valid = accuracy_score(y_valid, y_pred_valid)\n",
    "acc_train = accuracy_score(y_train, y_pred_train)\n",
    "mae_valid = mean_absolute_error(y_valid, y_pred_valid)\n",
    "mae_train = mean_absolute_error(y_train, y_pred_train)\n",
    "\n",
    "print(\"Validation accuracy: \", acc_valid)\n",
    "print(\"Training accuracy: \", acc_train)\n",
    "print(\"Validation mae: \", mae_valid)\n",
    "print(\"Training mae: \", mae_train)"
   ]
  },
  {
   "cell_type": "code",
   "execution_count": 14,
   "metadata": {},
   "outputs": [
    {
     "name": "stdout",
     "output_type": "stream",
     "text": [
      "Validation accuracy:  0.8107295686771565\n",
      "Training accuracy:  0.8135420110882196\n",
      "Validation mae:  0.9302118618356865\n",
      "Training mae:  0.9169773477551977\n"
     ]
    }
   ],
   "source": [
    "MLP_model = MLPClassifier(random_state=1, early_stopping=True, hidden_layer_sizes=(125, 100, 75))\n",
    "\n",
    "MLP_model.fit(X_train, y_train)\n",
    "\n",
    "y_pred_valid = MLP_model.predict(X_valid)\n",
    "y_pred_train = MLP_model.predict(X_train)\n",
    "\n",
    "acc_valid = accuracy_score(y_valid, y_pred_valid)\n",
    "acc_train = accuracy_score(y_train, y_pred_train)\n",
    "mae_valid = mean_absolute_error(y_valid, y_pred_valid)\n",
    "mae_train = mean_absolute_error(y_train, y_pred_train)\n",
    "\n",
    "print(\"Validation accuracy: \", acc_valid)\n",
    "print(\"Training accuracy: \", acc_train)\n",
    "print(\"Validation mae: \", mae_valid)\n",
    "print(\"Training mae: \", mae_train)"
   ]
  },
  {
   "cell_type": "markdown",
   "metadata": {},
   "source": [
    "Checking adaptive learning rate"
   ]
  },
  {
   "cell_type": "code",
   "execution_count": 15,
   "metadata": {},
   "outputs": [
    {
     "name": "stdout",
     "output_type": "stream",
     "text": [
      "Validation accuracy:  0.8107295686771565\n",
      "Training accuracy:  0.8135420110882196\n",
      "Validation mae:  0.9302118618356865\n",
      "Training mae:  0.9169773477551977\n"
     ]
    }
   ],
   "source": [
    "MLP_model = MLPClassifier(random_state=1, early_stopping=True, hidden_layer_sizes=(125, 100, 75), learning_rate='adaptive')\n",
    "\n",
    "MLP_model.fit(X_train, y_train)\n",
    "\n",
    "y_pred_valid = MLP_model.predict(X_valid)\n",
    "y_pred_train = MLP_model.predict(X_train)\n",
    "\n",
    "acc_valid = accuracy_score(y_valid, y_pred_valid)\n",
    "acc_train = accuracy_score(y_train, y_pred_train)\n",
    "mae_valid = mean_absolute_error(y_valid, y_pred_valid)\n",
    "mae_train = mean_absolute_error(y_train, y_pred_train)\n",
    "\n",
    "print(\"Validation accuracy: \", acc_valid)\n",
    "print(\"Training accuracy: \", acc_train)\n",
    "print(\"Validation mae: \", mae_valid)\n",
    "print(\"Training mae: \", mae_train)"
   ]
  },
  {
   "cell_type": "markdown",
   "metadata": {},
   "source": [
    "Checking different size of alpha"
   ]
  },
  {
   "cell_type": "code",
   "execution_count": 5,
   "metadata": {},
   "outputs": [
    {
     "name": "stdout",
     "output_type": "stream",
     "text": [
      "Validation accuracy:  0.7584628675942986\n",
      "Training accuracy:  0.760935824095127\n",
      "Validation mae:  1.2106636899229584\n",
      "Training mae:  1.1969897576047093\n"
     ]
    }
   ],
   "source": [
    "MLP_model = MLPClassifier(random_state=1, early_stopping=True, hidden_layer_sizes=(125, 100, 75), alpha=0.05)\n",
    "\n",
    "MLP_model.fit(X_train, y_train)\n",
    "\n",
    "y_pred_valid = MLP_model.predict(X_valid)\n",
    "y_pred_train = MLP_model.predict(X_train)\n",
    "\n",
    "acc_valid = accuracy_score(y_valid, y_pred_valid)\n",
    "acc_train = accuracy_score(y_train, y_pred_train)\n",
    "mae_valid = mean_absolute_error(y_valid, y_pred_valid)\n",
    "mae_train = mean_absolute_error(y_train, y_pred_train)\n",
    "\n",
    "print(\"Validation accuracy: \", acc_valid)\n",
    "print(\"Training accuracy: \", acc_train)\n",
    "print(\"Validation mae: \", mae_valid)\n",
    "print(\"Training mae: \", mae_train)"
   ]
  }
 ],
 "metadata": {
  "kernelspec": {
   "display_name": "Python 3",
   "language": "python",
   "name": "python3"
  },
  "language_info": {
   "codemirror_mode": {
    "name": "ipython",
    "version": 3
   },
   "file_extension": ".py",
   "mimetype": "text/x-python",
   "name": "python",
   "nbconvert_exporter": "python",
   "pygments_lexer": "ipython3",
   "version": "3.8.6"
  }
 },
 "nbformat": 4,
 "nbformat_minor": 4
}
