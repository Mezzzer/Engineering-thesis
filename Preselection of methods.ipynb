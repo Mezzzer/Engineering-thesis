{
 "cells": [
  {
   "cell_type": "code",
   "execution_count": 6,
   "metadata": {},
   "outputs": [],
   "source": [
    "import pandas as pd\n",
    "import numpy as np\n",
    "from scipy.stats import mode\n",
    "from sklearn.metrics import accuracy_score\n",
    "from sklearn.preprocessing import StandardScaler\n",
    "from sklearn.model_selection import cross_val_score\n",
    "from sklearn.ensemble import RandomForestClassifier\n",
    "from sklearn.pipeline import Pipeline\n",
    "from sklearn.impute import SimpleImputer\n",
    "from sklearn.metrics import accuracy_score\n",
    "from sklearn.preprocessing import StandardScaler\n",
    "from sklearn.model_selection import StratifiedShuffleSplit\n",
    "from sklearn.pipeline import make_pipeline\n",
    "from sklearn.model_selection import train_test_split\n",
    "from sklearn.metrics import mean_absolute_error"
   ]
  },
  {
   "cell_type": "code",
   "execution_count": 7,
   "metadata": {},
   "outputs": [
    {
     "data": {
      "text/html": [
       "<div>\n",
       "<style scoped>\n",
       "    .dataframe tbody tr th:only-of-type {\n",
       "        vertical-align: middle;\n",
       "    }\n",
       "\n",
       "    .dataframe tbody tr th {\n",
       "        vertical-align: top;\n",
       "    }\n",
       "\n",
       "    .dataframe thead th {\n",
       "        text-align: right;\n",
       "    }\n",
       "</style>\n",
       "<table border=\"1\" class=\"dataframe\">\n",
       "  <thead>\n",
       "    <tr style=\"text-align: right;\">\n",
       "      <th></th>\n",
       "      <th>DIS</th>\n",
       "      <th>FLO</th>\n",
       "      <th>LOY</th>\n",
       "      <th>PRI</th>\n",
       "      <th>PIM</th>\n",
       "      <th>FEA</th>\n",
       "      <th>LAG</th>\n",
       "      <th>CHO</th>\n",
       "    </tr>\n",
       "  </thead>\n",
       "  <tbody>\n",
       "    <tr>\n",
       "      <th>0</th>\n",
       "      <td>-0.43600</td>\n",
       "      <td>-0.056</td>\n",
       "      <td>1.0</td>\n",
       "      <td>0.1429</td>\n",
       "      <td>0.03510</td>\n",
       "      <td>-0.175710</td>\n",
       "      <td>1.0</td>\n",
       "      <td>9</td>\n",
       "    </tr>\n",
       "    <tr>\n",
       "      <th>1</th>\n",
       "      <td>3.85290</td>\n",
       "      <td>-0.576</td>\n",
       "      <td>1.0</td>\n",
       "      <td>0.8136</td>\n",
       "      <td>-0.48915</td>\n",
       "      <td>-0.588930</td>\n",
       "      <td>1.0</td>\n",
       "      <td>9</td>\n",
       "    </tr>\n",
       "    <tr>\n",
       "      <th>2</th>\n",
       "      <td>4.58810</td>\n",
       "      <td>0.260</td>\n",
       "      <td>1.0</td>\n",
       "      <td>0.1502</td>\n",
       "      <td>-0.09050</td>\n",
       "      <td>-0.195670</td>\n",
       "      <td>1.0</td>\n",
       "      <td>9</td>\n",
       "    </tr>\n",
       "    <tr>\n",
       "      <th>3</th>\n",
       "      <td>61.55460</td>\n",
       "      <td>-0.139</td>\n",
       "      <td>1.0</td>\n",
       "      <td>0.0817</td>\n",
       "      <td>-0.08200</td>\n",
       "      <td>-0.435940</td>\n",
       "      <td>1.0</td>\n",
       "      <td>9</td>\n",
       "    </tr>\n",
       "    <tr>\n",
       "      <th>4</th>\n",
       "      <td>1.70100</td>\n",
       "      <td>0.259</td>\n",
       "      <td>1.0</td>\n",
       "      <td>-0.1534</td>\n",
       "      <td>-0.05960</td>\n",
       "      <td>0.015470</td>\n",
       "      <td>1.0</td>\n",
       "      <td>9</td>\n",
       "    </tr>\n",
       "    <tr>\n",
       "      <th>...</th>\n",
       "      <td>...</td>\n",
       "      <td>...</td>\n",
       "      <td>...</td>\n",
       "      <td>...</td>\n",
       "      <td>...</td>\n",
       "      <td>...</td>\n",
       "      <td>...</td>\n",
       "      <td>...</td>\n",
       "    </tr>\n",
       "    <tr>\n",
       "      <th>3146269</th>\n",
       "      <td>4.10573</td>\n",
       "      <td>0.135</td>\n",
       "      <td>0.0</td>\n",
       "      <td>-2.1534</td>\n",
       "      <td>0.08141</td>\n",
       "      <td>5.524900</td>\n",
       "      <td>1.0</td>\n",
       "      <td>5</td>\n",
       "    </tr>\n",
       "    <tr>\n",
       "      <th>3146270</th>\n",
       "      <td>37.22023</td>\n",
       "      <td>2.173</td>\n",
       "      <td>0.0</td>\n",
       "      <td>-2.5829</td>\n",
       "      <td>0.11651</td>\n",
       "      <td>0.619060</td>\n",
       "      <td>1.0</td>\n",
       "      <td>5</td>\n",
       "    </tr>\n",
       "    <tr>\n",
       "      <th>3146271</th>\n",
       "      <td>0.03146</td>\n",
       "      <td>0.348</td>\n",
       "      <td>0.0</td>\n",
       "      <td>-1.2892</td>\n",
       "      <td>-0.19316</td>\n",
       "      <td>0.032053</td>\n",
       "      <td>1.0</td>\n",
       "      <td>5</td>\n",
       "    </tr>\n",
       "    <tr>\n",
       "      <th>3146272</th>\n",
       "      <td>5.57263</td>\n",
       "      <td>0.168</td>\n",
       "      <td>0.0</td>\n",
       "      <td>-2.1721</td>\n",
       "      <td>0.12531</td>\n",
       "      <td>1.746300</td>\n",
       "      <td>1.0</td>\n",
       "      <td>5</td>\n",
       "    </tr>\n",
       "    <tr>\n",
       "      <th>3146273</th>\n",
       "      <td>2.28003</td>\n",
       "      <td>0.058</td>\n",
       "      <td>-1.0</td>\n",
       "      <td>-0.4000</td>\n",
       "      <td>0.12431</td>\n",
       "      <td>5.601900</td>\n",
       "      <td>1.0</td>\n",
       "      <td>5</td>\n",
       "    </tr>\n",
       "  </tbody>\n",
       "</table>\n",
       "<p>3146274 rows × 8 columns</p>\n",
       "</div>"
      ],
      "text/plain": [
       "              DIS    FLO  LOY     PRI      PIM       FEA  LAG  CHO\n",
       "0        -0.43600 -0.056  1.0  0.1429  0.03510 -0.175710  1.0    9\n",
       "1         3.85290 -0.576  1.0  0.8136 -0.48915 -0.588930  1.0    9\n",
       "2         4.58810  0.260  1.0  0.1502 -0.09050 -0.195670  1.0    9\n",
       "3        61.55460 -0.139  1.0  0.0817 -0.08200 -0.435940  1.0    9\n",
       "4         1.70100  0.259  1.0 -0.1534 -0.05960  0.015470  1.0    9\n",
       "...           ...    ...  ...     ...      ...       ...  ...  ...\n",
       "3146269   4.10573  0.135  0.0 -2.1534  0.08141  5.524900  1.0    5\n",
       "3146270  37.22023  2.173  0.0 -2.5829  0.11651  0.619060  1.0    5\n",
       "3146271   0.03146  0.348  0.0 -1.2892 -0.19316  0.032053  1.0    5\n",
       "3146272   5.57263  0.168  0.0 -2.1721  0.12531  1.746300  1.0    5\n",
       "3146273   2.28003  0.058 -1.0 -0.4000  0.12431  5.601900  1.0    5\n",
       "\n",
       "[3146274 rows x 8 columns]"
      ]
     },
     "execution_count": 7,
     "metadata": {},
     "output_type": "execute_result"
    }
   ],
   "source": [
    "#data_path = 'processedData.csv'\n",
    "data_path = 'procDF2.csv'\n",
    "processed_df = pd.read_csv(data_path)\n",
    "processed_df"
   ]
  },
  {
   "cell_type": "code",
   "execution_count": 8,
   "metadata": {},
   "outputs": [],
   "source": [
    "#shops_features = ['DISNo','FLONo','LOY','PRI','PIMNo','FEANo','LAG']\n",
    "#shops_features = ['DIS','DISNo','FLO','FLONo','LOY','PRI','PIMNo','FEANo','LAG']\n",
    "shops_features = ['DIS','FLO','LOY','PRI','PIM','FEA','LAG']\n",
    "X = processed_df[shops_features]\n",
    "y = processed_df.CHO"
   ]
  },
  {
   "cell_type": "markdown",
   "metadata": {},
   "source": [
    "Random Forest Classifier train split without shuffle"
   ]
  },
  {
   "cell_type": "code",
   "execution_count": 4,
   "metadata": {},
   "outputs": [
    {
     "name": "stdout",
     "output_type": "stream",
     "text": [
      "Validation accuracy:  0.6404599569861819\n",
      "Training accuracy:  1.0\n",
      "Validation mae:  1.7895597584830936\n",
      "Training mae:  0.0\n"
     ]
    }
   ],
   "source": [
    "transformer_num = make_pipeline(\n",
    "    StandardScaler()\n",
    ")\n",
    "\n",
    "\n",
    "X_train, X_valid, y_train, y_valid = \\\n",
    "    train_test_split(X, y,shuffle=False, test_size=0.33)\n",
    "\n",
    "\n",
    "\n",
    "X_train = transformer_num.fit_transform(X_train)\n",
    "X_valid = transformer_num.transform(X_valid)\n",
    "\n",
    "rf_model = RandomForestClassifier(random_state=1)\n",
    "\n",
    "rf_model.fit(X_train, y_train)\n",
    "\n",
    "y_pred_valid = rf_model.predict(X_valid)\n",
    "y_pred_train = rf_model.predict(X_train)\n",
    "\n",
    "acc_valid = accuracy_score(y_valid, y_pred_valid)\n",
    "acc_train = accuracy_score(y_train, y_pred_train)\n",
    "mae_valid = mean_absolute_error(y_valid, y_pred_valid)\n",
    "mae_train = mean_absolute_error(y_train, y_pred_train)\n",
    "\n",
    "print(\"Validation accuracy: \", acc_valid)\n",
    "print(\"Training accuracy: \", acc_train)\n",
    "print(\"Validation mae: \", mae_valid)\n",
    "print(\"Training mae: \", mae_train)"
   ]
  },
  {
   "cell_type": "markdown",
   "metadata": {},
   "source": [
    "Random Forest Classifier train split with shuffle"
   ]
  },
  {
   "cell_type": "code",
   "execution_count": 5,
   "metadata": {},
   "outputs": [
    {
     "name": "stdout",
     "output_type": "stream",
     "text": [
      "Validation accuracy:  0.9811349830631887\n",
      "Training accuracy:  1.0\n",
      "Validation mae:  0.08549983578468434\n",
      "Training mae:  0.0\n"
     ]
    }
   ],
   "source": [
    "transformer_num = make_pipeline(\n",
    "    StandardScaler()\n",
    ")\n",
    "\n",
    "\n",
    "X_train, X_valid, y_train, y_valid = \\\n",
    "    train_test_split(X, y,stratify=y, test_size=0.33)\n",
    "\n",
    "\n",
    "\n",
    "X_train = transformer_num.fit_transform(X_train)\n",
    "X_valid = transformer_num.transform(X_valid)\n",
    "\n",
    "rf_model = RandomForestClassifier(random_state=1)\n",
    "\n",
    "rf_model.fit(X_train, y_train)\n",
    "\n",
    "y_pred_valid = rf_model.predict(X_valid)\n",
    "y_pred_train = rf_model.predict(X_train)\n",
    "\n",
    "acc_valid = accuracy_score(y_valid, y_pred_valid)\n",
    "acc_train = accuracy_score(y_train, y_pred_train)\n",
    "mae_valid = mean_absolute_error(y_valid, y_pred_valid)\n",
    "mae_train = mean_absolute_error(y_train, y_pred_train)\n",
    "\n",
    "print(\"Validation accuracy: \", acc_valid)\n",
    "print(\"Training accuracy: \", acc_train)\n",
    "print(\"Validation mae: \", mae_valid)\n",
    "print(\"Training mae: \", mae_train)"
   ]
  },
  {
   "cell_type": "markdown",
   "metadata": {},
   "source": [
    "Train/valid split"
   ]
  },
  {
   "cell_type": "code",
   "execution_count": 9,
   "metadata": {},
   "outputs": [],
   "source": [
    "transformer_num = make_pipeline(\n",
    "    StandardScaler()\n",
    ")\n",
    "\n",
    "X_train, X_valid, y_train, y_valid = \\\n",
    "    train_test_split(X, y,stratify=y, test_size=0.33)\n",
    "\n",
    "X_train = transformer_num.fit_transform(X_train)\n",
    "X_valid = transformer_num.transform(X_valid)"
   ]
  },
  {
   "cell_type": "markdown",
   "metadata": {},
   "source": [
    "XGB Classifier"
   ]
  },
  {
   "cell_type": "code",
   "execution_count": 6,
   "metadata": {},
   "outputs": [
    {
     "name": "stdout",
     "output_type": "stream",
     "text": [
      "Validation accuracy:  0.8886850323001009\n",
      "Training accuracy:  0.8915892028876491\n",
      "Validation mae:  0.5792921788464136\n",
      "Training mae:  0.5659054839482054\n"
     ]
    }
   ],
   "source": [
    "from xgboost import XGBClassifier\n",
    "\n",
    "xgb_model = XGBClassifier()\n",
    "\n",
    "xgb_model.fit(X_train, y_train)\n",
    "\n",
    "y_pred_valid = xgb_model.predict(X_valid)\n",
    "y_pred_train = xgb_model.predict(X_train)\n",
    "\n",
    "acc_valid = accuracy_score(y_valid, y_pred_valid)\n",
    "acc_train = accuracy_score(y_train, y_pred_train)\n",
    "mae_valid = mean_absolute_error(y_valid, y_pred_valid)\n",
    "mae_train = mean_absolute_error(y_train, y_pred_train)\n",
    "\n",
    "print(\"Validation accuracy: \", acc_valid)\n",
    "print(\"Training accuracy: \", acc_train)\n",
    "print(\"Validation mae: \", mae_valid)\n",
    "print(\"Training mae: \", mae_train)"
   ]
  },
  {
   "cell_type": "markdown",
   "metadata": {},
   "source": [
    "Decision Tree Classifier"
   ]
  },
  {
   "cell_type": "code",
   "execution_count": 7,
   "metadata": {},
   "outputs": [
    {
     "name": "stdout",
     "output_type": "stream",
     "text": [
      "Validation accuracy:  0.9624876356943418\n",
      "Training accuracy:  1.0\n",
      "Validation mae:  0.16847528246479002\n",
      "Training mae:  0.0\n"
     ]
    }
   ],
   "source": [
    "from sklearn.tree import DecisionTreeClassifier\n",
    "\n",
    "dt_model = DecisionTreeClassifier()\n",
    "\n",
    "dt_model.fit(X_train, y_train)\n",
    "\n",
    "y_pred_valid = dt_model.predict(X_valid)\n",
    "y_pred_train = dt_model.predict(X_train)\n",
    "\n",
    "acc_valid = accuracy_score(y_valid, y_pred_valid)\n",
    "acc_train = accuracy_score(y_train, y_pred_train)\n",
    "mae_valid = mean_absolute_error(y_valid, y_pred_valid)\n",
    "mae_train = mean_absolute_error(y_train, y_pred_train)\n",
    "\n",
    "print(\"Validation accuracy: \", acc_valid)\n",
    "print(\"Training accuracy: \", acc_train)\n",
    "print(\"Validation mae: \", mae_valid)\n",
    "print(\"Training mae: \", mae_train)"
   ]
  },
  {
   "cell_type": "markdown",
   "metadata": {},
   "source": [
    "SGD Classifier\n",
    "https://scikit-learn.org/stable/modules/generated/sklearn.linear_model.SGDClassifier.html#sklearn.linear_model.SGDClassifier"
   ]
  },
  {
   "cell_type": "code",
   "execution_count": 8,
   "metadata": {},
   "outputs": [
    {
     "name": "stdout",
     "output_type": "stream",
     "text": [
      "Validation accuracy:  0.4761887792300854\n",
      "Training accuracy:  0.47627731080079105\n",
      "Validation mae:  2.522772956193518\n",
      "Training mae:  2.522856940905682\n"
     ]
    }
   ],
   "source": [
    "from sklearn.linear_model import SGDClassifier\n",
    "\n",
    "SGDC_model = SGDClassifier()\n",
    "\n",
    "SGDC_model.fit(X_train, y_train)\n",
    "\n",
    "y_pred_valid = SGDC_model.predict(X_valid)\n",
    "y_pred_train = SGDC_model.predict(X_train)\n",
    "\n",
    "acc_valid = accuracy_score(y_valid, y_pred_valid)\n",
    "acc_train = accuracy_score(y_train, y_pred_train)\n",
    "mae_valid = mean_absolute_error(y_valid, y_pred_valid)\n",
    "mae_train = mean_absolute_error(y_train, y_pred_train)\n",
    "\n",
    "print(\"Validation accuracy: \", acc_valid)\n",
    "print(\"Training accuracy: \", acc_train)\n",
    "print(\"Validation mae: \", mae_valid)\n",
    "print(\"Training mae: \", mae_train)"
   ]
  },
  {
   "cell_type": "markdown",
   "metadata": {},
   "source": [
    "Gaussian Naive Bayes"
   ]
  },
  {
   "cell_type": "code",
   "execution_count": 9,
   "metadata": {},
   "outputs": [
    {
     "name": "stdout",
     "output_type": "stream",
     "text": [
      "Validation accuracy:  0.46906347186813463\n",
      "Training accuracy:  0.46978064072963843\n",
      "Validation mae:  2.463592838478586\n",
      "Training mae:  2.4607887180426213\n"
     ]
    }
   ],
   "source": [
    "from sklearn.naive_bayes import GaussianNB\n",
    "\n",
    "GNB_model = GaussianNB()\n",
    "\n",
    "GNB_model.fit(X_train, y_train)\n",
    "\n",
    "y_pred_valid = GNB_model.predict(X_valid)\n",
    "y_pred_train = GNB_model.predict(X_train)\n",
    "\n",
    "acc_valid = accuracy_score(y_valid, y_pred_valid)\n",
    "acc_train = accuracy_score(y_train, y_pred_train)\n",
    "mae_valid = mean_absolute_error(y_valid, y_pred_valid)\n",
    "mae_train = mean_absolute_error(y_train, y_pred_train)\n",
    "\n",
    "print(\"Validation accuracy: \", acc_valid)\n",
    "print(\"Training accuracy: \", acc_train)\n",
    "print(\"Validation mae: \", mae_valid)\n",
    "print(\"Training mae: \", mae_train)"
   ]
  },
  {
   "cell_type": "markdown",
   "metadata": {},
   "source": [
    "Ada Boost Classifier"
   ]
  },
  {
   "cell_type": "code",
   "execution_count": 13,
   "metadata": {},
   "outputs": [
    {
     "name": "stdout",
     "output_type": "stream",
     "text": [
      "Validation accuracy:  0.5214524916905124\n",
      "Training accuracy:  0.521650585886263\n",
      "Validation mae:  2.3748029175427225\n",
      "Training mae:  2.3726285019518474\n"
     ]
    }
   ],
   "source": [
    "from sklearn.ensemble import AdaBoostClassifier\n",
    "\n",
    "ADA_model = AdaBoostClassifier()\n",
    "\n",
    "ADA_model.fit(X_train, y_train)\n",
    "\n",
    "y_pred_valid = ADA_model.predict(X_valid)\n",
    "y_pred_train = ADA_model.predict(X_train)\n",
    "\n",
    "acc_valid = accuracy_score(y_valid, y_pred_valid)\n",
    "acc_train = accuracy_score(y_train, y_pred_train)\n",
    "mae_valid = mean_absolute_error(y_valid, y_pred_valid)\n",
    "mae_train = mean_absolute_error(y_train, y_pred_train)\n",
    "\n",
    "print(\"Validation accuracy: \", acc_valid)\n",
    "print(\"Training accuracy: \", acc_train)\n",
    "print(\"Validation mae: \", mae_valid)\n",
    "print(\"Training mae: \", mae_train)"
   ]
  },
  {
   "cell_type": "markdown",
   "metadata": {},
   "source": [
    "MLP Classifier"
   ]
  },
  {
   "cell_type": "code",
   "execution_count": 10,
   "metadata": {},
   "outputs": [
    {
     "name": "stdout",
     "output_type": "stream",
     "text": [
      "Validation accuracy:  0.6723254333406211\n",
      "Training accuracy:  0.6729022681656525\n",
      "Validation mae:  1.6696363473505471\n",
      "Training mae:  1.6665313094905463\n"
     ]
    }
   ],
   "source": [
    "from sklearn.neural_network import MLPClassifier\n",
    "\n",
    "MLP_model = MLPClassifier(random_state=1)\n",
    "\n",
    "MLP_model.fit(X_train, y_train)\n",
    "\n",
    "y_pred_valid = MLP_model.predict(X_valid)\n",
    "y_pred_train = MLP_model.predict(X_train)\n",
    "\n",
    "acc_valid = accuracy_score(y_valid, y_pred_valid)\n",
    "acc_train = accuracy_score(y_train, y_pred_train)\n",
    "mae_valid = mean_absolute_error(y_valid, y_pred_valid)\n",
    "mae_train = mean_absolute_error(y_train, y_pred_train)\n",
    "\n",
    "print(\"Validation accuracy: \", acc_valid)\n",
    "print(\"Training accuracy: \", acc_train)\n",
    "print(\"Validation mae: \", mae_valid)\n",
    "print(\"Training mae: \", mae_train)"
   ]
  },
  {
   "cell_type": "markdown",
   "metadata": {},
   "source": [
    "Quadratic Discriminant https://scikit-learn.org/stable/modules/generated/sklearn.discriminant_analysis.QuadraticDiscriminantAnalysis.html#sklearn.discriminant_analysis.QuadraticDiscriminantAnalysis"
   ]
  },
  {
   "cell_type": "code",
   "execution_count": 12,
   "metadata": {},
   "outputs": [
    {
     "name": "stdout",
     "output_type": "stream",
     "text": [
      "Validation accuracy:  0.49537741109979955\n",
      "Training accuracy:  0.4952402819161073\n",
      "Validation mae:  2.4196312908672204\n",
      "Training mae:  2.4198561387246604\n"
     ]
    }
   ],
   "source": [
    "from sklearn.discriminant_analysis import QuadraticDiscriminantAnalysis\n",
    "\n",
    "QD_model = QuadraticDiscriminantAnalysis()\n",
    "\n",
    "QD_model.fit(X_train, y_train)\n",
    "\n",
    "y_pred_valid = QD_model.predict(X_valid)\n",
    "y_pred_train = QD_model.predict(X_train)\n",
    "\n",
    "acc_valid = accuracy_score(y_valid, y_pred_valid)\n",
    "acc_train = accuracy_score(y_train, y_pred_train)\n",
    "mae_valid = mean_absolute_error(y_valid, y_pred_valid)\n",
    "mae_train = mean_absolute_error(y_train, y_pred_train)\n",
    "\n",
    "print(\"Validation accuracy: \", acc_valid)\n",
    "print(\"Training accuracy: \", acc_train)\n",
    "print(\"Validation mae: \", mae_valid)\n",
    "print(\"Training mae: \", mae_train)"
   ]
  },
  {
   "cell_type": "markdown",
   "metadata": {},
   "source": [
    "Logistic Regression"
   ]
  },
  {
   "cell_type": "code",
   "execution_count": 5,
   "metadata": {},
   "outputs": [
    {
     "name": "stdout",
     "output_type": "stream",
     "text": [
      "Validation accuracy:  0.5097551602616273\n",
      "Training accuracy:  0.5098161625007175\n",
      "Validation mae:  2.407235683169423\n",
      "Training mae:  2.406940122950489\n"
     ]
    }
   ],
   "source": [
    "from sklearn.linear_model import LogisticRegression\n",
    "\n",
    "logReg = LogisticRegression()\n",
    "\n",
    "logReg.fit(X_train, y_train)\n",
    "\n",
    "y_pred_valid = logReg.predict(X_valid)\n",
    "y_pred_train = logReg.predict(X_train)\n",
    "\n",
    "acc_valid = accuracy_score(y_valid, y_pred_valid)\n",
    "acc_train = accuracy_score(y_train, y_pred_train)\n",
    "mae_valid = mean_absolute_error(y_valid, y_pred_valid)\n",
    "mae_train = mean_absolute_error(y_train, y_pred_train)\n",
    "\n",
    "print(\"Validation accuracy: \", acc_valid)\n",
    "print(\"Training accuracy: \", acc_train)\n",
    "print(\"Validation mae: \", mae_valid)\n",
    "print(\"Training mae: \", mae_train)"
   ]
  },
  {
   "cell_type": "code",
   "execution_count": null,
   "metadata": {},
   "outputs": [],
   "source": []
  }
 ],
 "metadata": {
  "kernelspec": {
   "display_name": "Python 3",
   "language": "python",
   "name": "python3"
  },
  "language_info": {
   "codemirror_mode": {
    "name": "ipython",
    "version": 3
   },
   "file_extension": ".py",
   "mimetype": "text/x-python",
   "name": "python",
   "nbconvert_exporter": "python",
   "pygments_lexer": "ipython3",
   "version": "3.8.6"
  }
 },
 "nbformat": 4,
 "nbformat_minor": 4
}
